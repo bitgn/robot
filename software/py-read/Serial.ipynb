{
 "cells": [
  {
   "cell_type": "code",
   "execution_count": 1,
   "metadata": {},
   "outputs": [
    {
     "name": "stdout",
     "output_type": "stream",
     "text": [
      "[Errno 2] could not open port /dev/tty.usbmodem14101: [Errno 2] No such file or directory: '/dev/tty.usbmodem14101'\n"
     ]
    }
   ],
   "source": [
    "import serial\n",
    "from collections import deque\n",
    "import threading\n",
    "import time\n",
    "\n",
    "ser = None\n",
    "\n",
    "buf = deque()\n",
    "\n",
    "\n",
    "def scan_and_print():\n",
    "    pos = 0\n",
    "    v = []\n",
    "\n",
    "    while True:\n",
    "        while len(buf) > 0:\n",
    "\n",
    "            b = buf.pop()\n",
    "\n",
    "            if b == 255:\n",
    "                if len(v) == 3:\n",
    "                    print(\"{0}\\t{1}\".format(v[0],v[1]))\n",
    "                v.clear()\n",
    "            else:\n",
    "                v.append(b)\n",
    "\n",
    "\n",
    "\n",
    "        time.sleep(0.1);\n",
    "\n",
    "\n",
    "threading.Thread(target=scan_and_print).start()\n",
    "\n",
    "\n",
    "try:\n",
    "    ser = serial.Serial('/dev/tty.usbmodem14101',115200,timeout=0.1)\n",
    "\n",
    "    while True:\n",
    "        try:\n",
    "            count = ser.inWaiting()\n",
    "            if count == 0:\n",
    "                continue\n",
    "            bs = ser.read(count)\n",
    "            buf.extendleft(bs)\n",
    "\n",
    "        except Exception as e:\n",
    "            print(e)\n",
    "            pass\n",
    "except Exception as e:\n",
    "    print(e)\n",
    "    pass\n",
    "finally:\n",
    "    if ser:\n",
    "        ser.close()\n"
   ]
  }
 ],
 "metadata": {
  "kernelspec": {
   "display_name": "Python 3",
   "language": "python",
   "name": "python3"
  },
  "language_info": {
   "codemirror_mode": {
    "name": "ipython",
    "version": 3
   },
   "file_extension": ".py",
   "mimetype": "text/x-python",
   "name": "python",
   "nbconvert_exporter": "python",
   "pygments_lexer": "ipython3",
   "version": "3.6.5"
  }
 },
 "nbformat": 4,
 "nbformat_minor": 2
}
